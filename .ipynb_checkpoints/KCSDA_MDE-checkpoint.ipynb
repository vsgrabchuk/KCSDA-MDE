{
 "cells": [
  {
   "cell_type": "code",
   "execution_count": 1,
   "metadata": {},
   "outputs": [],
   "source": [
    "import functools as ft\n",
    "\n",
    "import pandas as pd\n",
    "import numpy as np\n",
    "import scipy.stats as ss\n",
    "import swifter\n",
    "from gvs_ab import gvs_ab as ab\n",
    "\n",
    "import pandahouse\n",
    "\n",
    "import matplotlib.pyplot as plt\n",
    "import seaborn as sns\n",
    "from tqdm import tqdm\n",
    "\n",
    "rng = np.random.default_rng()"
   ]
  },
  {
   "cell_type": "markdown",
   "metadata": {},
   "source": [
    "# Задача 1\n",
    "\n",
    "Коллеги из ML отдела предложили новый алгоритм:\n",
    "- добавляет пользователям 1-2 просмотра\n",
    "- вероятность работоспособности 90%\n",
    "- если у пользователя меньше 50 просмотров, то алгоритм не сработает\n",
    "\n",
    "Можно ли задетектить разницу в лайках с помощью t-test с поправкой Уэлча?\n",
    "Надо Монте-Карлить!\n",
    "\n",
    "План\n",
    "- Есть данные по AA-тестам за '2024-02-23'-'2024-02-29'\n",
    "- Выгрузить данные по пользователям, полагая что по ним можно строить актуальную модель\n",
    "- Сымитируем эффект алгоритма на просмотры: \n",
    "    - views + (1 + Binomial(1, 0.5, size=n)) * Binomial(1, 0.9, size=n) * (views >= 50)\n",
    "- Разобьём весь трафик на 2 группы\n",
    "- Проведём симуляции, используя t-тест\n",
    "- Уровень значимости 0.05."
   ]
  },
  {
   "cell_type": "markdown",
   "metadata": {},
   "source": [
    "#### Достаём данные"
   ]
  },
  {
   "cell_type": "code",
   "execution_count": 2,
   "metadata": {},
   "outputs": [],
   "source": [
    "# Подключение к БД\n",
    "connection = {\n",
    "    'host': 'https://clickhouse.lab.karpov.courses',\n",
    "    'password': 'dpo_python_2020',\n",
    "    'user': 'student',\n",
    "    'database': 'simulator'\n",
    "}\n",
    "db='simulator_20240320'"
   ]
  },
  {
   "cell_type": "code",
   "execution_count": 26,
   "metadata": {},
   "outputs": [
    {
     "data": {
      "text/html": [
       "<div>\n",
       "<style scoped>\n",
       "    .dataframe tbody tr th:only-of-type {\n",
       "        vertical-align: middle;\n",
       "    }\n",
       "\n",
       "    .dataframe tbody tr th {\n",
       "        vertical-align: top;\n",
       "    }\n",
       "\n",
       "    .dataframe thead th {\n",
       "        text-align: right;\n",
       "    }\n",
       "</style>\n",
       "<table border=\"1\" class=\"dataframe\">\n",
       "  <thead>\n",
       "    <tr style=\"text-align: right;\">\n",
       "      <th></th>\n",
       "      <th>user_id</th>\n",
       "      <th>likes</th>\n",
       "      <th>views</th>\n",
       "      <th>ctr</th>\n",
       "    </tr>\n",
       "  </thead>\n",
       "  <tbody>\n",
       "    <tr>\n",
       "      <th>0</th>\n",
       "      <td>13289</td>\n",
       "      <td>2</td>\n",
       "      <td>32</td>\n",
       "      <td>0.062500</td>\n",
       "    </tr>\n",
       "    <tr>\n",
       "      <th>1</th>\n",
       "      <td>121096</td>\n",
       "      <td>12</td>\n",
       "      <td>57</td>\n",
       "      <td>0.210526</td>\n",
       "    </tr>\n",
       "    <tr>\n",
       "      <th>2</th>\n",
       "      <td>5090</td>\n",
       "      <td>2</td>\n",
       "      <td>14</td>\n",
       "      <td>0.142857</td>\n",
       "    </tr>\n",
       "    <tr>\n",
       "      <th>3</th>\n",
       "      <td>129283</td>\n",
       "      <td>23</td>\n",
       "      <td>80</td>\n",
       "      <td>0.287500</td>\n",
       "    </tr>\n",
       "    <tr>\n",
       "      <th>4</th>\n",
       "      <td>4394</td>\n",
       "      <td>25</td>\n",
       "      <td>54</td>\n",
       "      <td>0.462963</td>\n",
       "    </tr>\n",
       "    <tr>\n",
       "      <th>...</th>\n",
       "      <td>...</td>\n",
       "      <td>...</td>\n",
       "      <td>...</td>\n",
       "      <td>...</td>\n",
       "    </tr>\n",
       "    <tr>\n",
       "      <th>41992</th>\n",
       "      <td>3795</td>\n",
       "      <td>3</td>\n",
       "      <td>17</td>\n",
       "      <td>0.176471</td>\n",
       "    </tr>\n",
       "    <tr>\n",
       "      <th>41993</th>\n",
       "      <td>123954</td>\n",
       "      <td>23</td>\n",
       "      <td>101</td>\n",
       "      <td>0.227723</td>\n",
       "    </tr>\n",
       "    <tr>\n",
       "      <th>41994</th>\n",
       "      <td>124666</td>\n",
       "      <td>32</td>\n",
       "      <td>141</td>\n",
       "      <td>0.226950</td>\n",
       "    </tr>\n",
       "    <tr>\n",
       "      <th>41995</th>\n",
       "      <td>11280</td>\n",
       "      <td>29</td>\n",
       "      <td>133</td>\n",
       "      <td>0.218045</td>\n",
       "    </tr>\n",
       "    <tr>\n",
       "      <th>41996</th>\n",
       "      <td>116465</td>\n",
       "      <td>12</td>\n",
       "      <td>53</td>\n",
       "      <td>0.226415</td>\n",
       "    </tr>\n",
       "  </tbody>\n",
       "</table>\n",
       "<p>41997 rows × 4 columns</p>\n",
       "</div>"
      ],
      "text/plain": [
       "       user_id  likes  views       ctr\n",
       "0        13289      2     32  0.062500\n",
       "1       121096     12     57  0.210526\n",
       "2         5090      2     14  0.142857\n",
       "3       129283     23     80  0.287500\n",
       "4         4394     25     54  0.462963\n",
       "...        ...    ...    ...       ...\n",
       "41992     3795      3     17  0.176471\n",
       "41993   123954     23    101  0.227723\n",
       "41994   124666     32    141  0.226950\n",
       "41995    11280     29    133  0.218045\n",
       "41996   116465     12     53  0.226415\n",
       "\n",
       "[41997 rows x 4 columns]"
      ]
     },
     "execution_count": 26,
     "metadata": {},
     "output_type": "execute_result"
    }
   ],
   "source": [
    "date_start = \"toDate('2024-02-23')\"\n",
    "date_end = \"toDate('2024-02-29')\"\n",
    "\n",
    "q = f\"\"\"\n",
    "WITH \n",
    "filtered_data AS (\n",
    "    SELECT\n",
    "        user_id,\n",
    "        time,\n",
    "        exp_group,\n",
    "        action\n",
    "    FROM {db}.feed_actions\n",
    "    WHERE \n",
    "        time>={date_start} AND time<{date_end}+1\n",
    "),\n",
    "feed_actions AS (\n",
    "    -- Активность пользователей из интересующих групп за указанный период\n",
    "    SELECT\n",
    "        user_id,\n",
    "        countIf(time, action='like') AS likes,\n",
    "        countIf(time, action='view') AS views,\n",
    "        likes/views as ctr\n",
    "    FROM filtered_data\n",
    "    GROUP BY user_id\n",
    ")\n",
    "\n",
    "SELECT *\n",
    "FROM feed_actions\n",
    "\"\"\"\n",
    "\n",
    "df = pandahouse.read_clickhouse(q, connection=connection)\n",
    "df"
   ]
  },
  {
   "cell_type": "markdown",
   "metadata": {},
   "source": [
    "#### Строим модель"
   ]
  },
  {
   "cell_type": "code",
   "execution_count": 4,
   "metadata": {},
   "outputs": [],
   "source": [
    "# Классы для генерирования правдоподобных данных\n",
    "\n",
    "class DataSimulator:\n",
    "    '''Источник симулированных данных для формирования синтетических выборок'''\n",
    "    \n",
    "    def __init__(self, views, ctr):\n",
    "        '''\n",
    "        Запись исходных данных\n",
    "        \n",
    "        views: np.array-like\n",
    "        ctr: np.array-like\n",
    "        '''\n",
    "        self._views = views\n",
    "        self._ctr = ctr\n",
    "        self._n_init = views.shape[0]\n",
    "        \n",
    "    def create_group(self,\n",
    "        group_name,\n",
    "        views_dif=lambda x: x,\n",
    "        likes_dif=lambda x: x,\n",
    "        ctr_dif=lambda x: x\n",
    "    ):\n",
    "        '''\n",
    "        Создание группы (контрольной/тестовой)\n",
    "\n",
    "        group_name: str\n",
    "        views_dif: callable, default lambda x: x\n",
    "            Изменение просмотров\n",
    "        likes_dif: callable, default lambda x: x\n",
    "            Изменение лайков\n",
    "        ctr_dif: callable, default lambda x: x\n",
    "            Изменение ctr\n",
    "        '''\n",
    "        group = Group(\n",
    "            sim=self,\n",
    "            group_name=group_name,\n",
    "            views_dif=views_dif,\n",
    "            likes_dif=likes_dif,\n",
    "            ctr_dif=ctr_dif\n",
    "        )\n",
    "        self.__dict__.update({group_name: group})\n",
    "\n",
    "\n",
    "class Group:\n",
    "    '''Контрольная/тестовая группа'''\n",
    "    \n",
    "    def __init__(self, \n",
    "        sim,\n",
    "        group_name,\n",
    "        views_dif,\n",
    "        likes_dif,\n",
    "        ctr_dif\n",
    "):      \n",
    "        '''\n",
    "        Создание группы\n",
    "        \n",
    "        sim: DataSimulator\n",
    "            Источник данных (опорных распределений)\n",
    "        group_name: str\n",
    "            Название группы\n",
    "        views_dif: callable, default lambda x: x\n",
    "            Изменение просмотров\n",
    "        likes_dif: callable, default lambda x: x\n",
    "            Изменение лайков\n",
    "        ctr_dif: callable, default lambda x: x\n",
    "            Изменение ctr\n",
    "        '''\n",
    "        self._sim = sim\n",
    "        self._group_name = group_name\n",
    "        self._views_dif = views_dif\n",
    "        self._likes_dif = likes_dif\n",
    "        self._ctr_dif = ctr_dif\n",
    "        self.views = np.array([])\n",
    "        self._ctr_medium = np.array([])\n",
    "        self.ctr = np.array([])\n",
    "        self.likes = np.array([])\n",
    "        \n",
    "        \n",
    "    def rvs(self, n_simulations, sample_size):\n",
    "        '''\n",
    "        Генерация выборки\n",
    "        \n",
    "        n_simulations: int\n",
    "            Количество симуляций\n",
    "        sample_size: int\n",
    "            Размер выборки\n",
    "        '''\n",
    "        self.views = rng.choice(\n",
    "            self._views_dif(self._sim._views), \n",
    "            size=(n_simulations, sample_size), \n",
    "            replace=True).astype('int32')\n",
    "        self._ctr_medium = rng.choice(\n",
    "            self._ctr_dif(self._sim._ctr), \n",
    "            size=(n_simulations, sample_size), \n",
    "            replace=True)\n",
    "\n",
    "        self.likes = rng.binomial(self.views, self._ctr_medium)\n",
    "        self.likes = self._likes_dif(self.likes)\n",
    "        \n",
    "        self.ctr = self.likes / self.views"
   ]
  },
  {
   "cell_type": "code",
   "execution_count": 5,
   "metadata": {},
   "outputs": [
    {
     "data": {
      "text/html": [
       "<div>\n",
       "<style scoped>\n",
       "    .dataframe tbody tr th:only-of-type {\n",
       "        vertical-align: middle;\n",
       "    }\n",
       "\n",
       "    .dataframe tbody tr th {\n",
       "        vertical-align: top;\n",
       "    }\n",
       "\n",
       "    .dataframe thead th {\n",
       "        text-align: right;\n",
       "    }\n",
       "</style>\n",
       "<table border=\"1\" class=\"dataframe\">\n",
       "  <thead>\n",
       "    <tr style=\"text-align: right;\">\n",
       "      <th></th>\n",
       "      <th>user_id</th>\n",
       "      <th>date</th>\n",
       "      <th>ctr</th>\n",
       "    </tr>\n",
       "  </thead>\n",
       "  <tbody>\n",
       "    <tr>\n",
       "      <th>0</th>\n",
       "      <td>128456</td>\n",
       "      <td>2024-02-27</td>\n",
       "      <td>0.15</td>\n",
       "    </tr>\n",
       "    <tr>\n",
       "      <th>1</th>\n",
       "      <td>7977</td>\n",
       "      <td>2024-02-27</td>\n",
       "      <td>0.17</td>\n",
       "    </tr>\n",
       "    <tr>\n",
       "      <th>2</th>\n",
       "      <td>121097</td>\n",
       "      <td>2024-02-24</td>\n",
       "      <td>0.12</td>\n",
       "    </tr>\n",
       "    <tr>\n",
       "      <th>3</th>\n",
       "      <td>5091</td>\n",
       "      <td>2024-02-24</td>\n",
       "      <td>0.00</td>\n",
       "    </tr>\n",
       "    <tr>\n",
       "      <th>4</th>\n",
       "      <td>107322</td>\n",
       "      <td>2024-02-28</td>\n",
       "      <td>0.16</td>\n",
       "    </tr>\n",
       "    <tr>\n",
       "      <th>...</th>\n",
       "      <td>...</td>\n",
       "      <td>...</td>\n",
       "      <td>...</td>\n",
       "    </tr>\n",
       "    <tr>\n",
       "      <th>85116</th>\n",
       "      <td>116978</td>\n",
       "      <td>2024-02-27</td>\n",
       "      <td>0.20</td>\n",
       "    </tr>\n",
       "    <tr>\n",
       "      <th>85117</th>\n",
       "      <td>3098</td>\n",
       "      <td>2024-02-24</td>\n",
       "      <td>0.23</td>\n",
       "    </tr>\n",
       "    <tr>\n",
       "      <th>85118</th>\n",
       "      <td>21738</td>\n",
       "      <td>2024-02-28</td>\n",
       "      <td>0.19</td>\n",
       "    </tr>\n",
       "    <tr>\n",
       "      <th>85119</th>\n",
       "      <td>122191</td>\n",
       "      <td>2024-02-25</td>\n",
       "      <td>0.16</td>\n",
       "    </tr>\n",
       "    <tr>\n",
       "      <th>85120</th>\n",
       "      <td>116464</td>\n",
       "      <td>2024-02-24</td>\n",
       "      <td>0.33</td>\n",
       "    </tr>\n",
       "  </tbody>\n",
       "</table>\n",
       "<p>85121 rows × 3 columns</p>\n",
       "</div>"
      ],
      "text/plain": [
       "       user_id       date   ctr\n",
       "0       128456 2024-02-27  0.15\n",
       "1         7977 2024-02-27  0.17\n",
       "2       121097 2024-02-24  0.12\n",
       "3         5091 2024-02-24  0.00\n",
       "4       107322 2024-02-28  0.16\n",
       "...        ...        ...   ...\n",
       "85116   116978 2024-02-27  0.20\n",
       "85117     3098 2024-02-24  0.23\n",
       "85118    21738 2024-02-28  0.19\n",
       "85119   122191 2024-02-25  0.16\n",
       "85120   116464 2024-02-24  0.33\n",
       "\n",
       "[85121 rows x 3 columns]"
      ]
     },
     "execution_count": 5,
     "metadata": {},
     "output_type": "execute_result"
    }
   ],
   "source": [
    "date_start = \"toDate('2024-02-23')\"\n",
    "date_end = \"toDate('2024-02-29')\"\n",
    "\n",
    "q = f\"\"\"\n",
    "WITH \n",
    "filtered_data AS (\n",
    "    SELECT\n",
    "        user_id,\n",
    "        toDate(time) AS date,\n",
    "        action\n",
    "    FROM {db}.feed_actions\n",
    "    WHERE time>={date_start} AND time<{date_end}+1\n",
    "),\n",
    "feed_actions AS (\n",
    "    -- Активность пользователей из интересующих групп за указанный период\n",
    "    SELECT\n",
    "        user_id,\n",
    "        date,\n",
    "        FLOOR(sum(action='like') / sum(action='view'), 2) as ctr\n",
    "    FROM filtered_data\n",
    "    GROUP BY date, user_id\n",
    ")\n",
    "\n",
    "SELECT *\n",
    "FROM feed_actions\n",
    "\"\"\"\n",
    "\n",
    "ctr_df = pandahouse.read_clickhouse(q, connection=connection)\n",
    "ctr_df"
   ]
  },
  {
   "cell_type": "code",
   "execution_count": 6,
   "metadata": {},
   "outputs": [
    {
     "name": "stdout",
     "output_type": "stream",
     "text": [
      "all views: 41997\n",
      "sample size: 20998\n"
     ]
    },
    {
     "data": {
      "image/png": "[encoded data removed]",
      "text/plain": [
       "<Figure size 640x480 with 1 Axes>"
      ]
     },
     "metadata": {},
     "output_type": "display_data"
    }
   ],
   "source": [
    "# Объект - симулятор данных\n",
    "sim = DataSimulator(df.views, df.ctr)\n",
    "\n",
    "# Генерация контрольной выборки\n",
    "sample_size = int(df.views.shape[0] / 2)\n",
    "sim.create_group('a')\n",
    "sim.a.rvs(1, sample_size)\n",
    "\n",
    "# Проверка\n",
    "bins=50\n",
    "sns.histplot(\n",
    "    df.views,\n",
    "    bins=bins,\n",
    "    stat='probability',\n",
    "    label='real'\n",
    ");\n",
    "sns.histplot(\n",
    "    sim.a.views.flatten(),\n",
    "    bins=bins,\n",
    "    stat='probability',\n",
    "    label='model'\n",
    ");\n",
    "plt.title('views');\n",
    "plt.legend()\n",
    "plt.grid();\n",
    "\n",
    "print(f'all views: {df.views.shape[0]}\\nsample size: {sample_size}')"
   ]
  },
  {
   "cell_type": "code",
   "execution_count": 7,
   "metadata": {},
   "outputs": [
    {
     "data": {
      "image/png": "[encoded data removed]",
      "text/plain": [
       "<Figure size 640x480 with 1 Axes>"
      ]
     },
     "metadata": {},
     "output_type": "display_data"
    }
   ],
   "source": [
    "# Проверка\n",
    "bins=50\n",
    "sns.histplot(\n",
    "    df.likes,\n",
    "    bins=bins,\n",
    "    stat='probability',\n",
    "    label='real'\n",
    ");\n",
    "sns.histplot(\n",
    "    sim.a.likes.flatten(),\n",
    "    bins=bins,\n",
    "    stat='probability',\n",
    "    label='model'\n",
    ");\n",
    "plt.title('likes');\n",
    "plt.legend()\n",
    "plt.grid();"
   ]
  },
  {
   "cell_type": "code",
   "execution_count": 8,
   "metadata": {},
   "outputs": [
    {
     "data": {
      "image/png": "[encoded data removed]",
      "text/plain": [
       "<Figure size 640x480 with 1 Axes>"
      ]
     },
     "metadata": {},
     "output_type": "display_data"
    }
   ],
   "source": [
    "# Проверка\n",
    "bins=50\n",
    "sns.histplot(\n",
    "    df.ctr,\n",
    "    bins=bins,\n",
    "    stat='probability',\n",
    "    label='real'\n",
    ");\n",
    "sns.histplot(\n",
    "    sim.a.ctr.flatten(),\n",
    "    bins=bins,\n",
    "    stat='probability',\n",
    "    label='model'\n",
    ");\n",
    "plt.title('ctr');\n",
    "plt.legend()\n",
    "plt.grid();"
   ]
  },
  {
   "cell_type": "code",
   "execution_count": 10,
   "metadata": {},
   "outputs": [
    {
     "data": {
      "application/vnd.jupyter.widget-view+json": {
       "model_id": "c0acc5d6b9434dfe923daf725ea011dd",
       "version_major": 2,
       "version_minor": 0
      },
      "text/plain": [
       "0it [00:00, ?it/s]"
      ]
     },
     "metadata": {},
     "output_type": "display_data"
    },
    {
     "name": "stdout",
     "output_type": "stream",
     "text": [
      "0.051\n"
     ]
    }
   ],
   "source": [
    "# AA тест\n",
    "def simulation():  # Для экономии оперативы (???)\n",
    "    n_simulations = 1000\n",
    "    sample_size = int(df.views.shape[0] / 2)\n",
    "    alpha = 0.05\n",
    "    \n",
    "    # Создание групп\n",
    "    sim = DataSimulator(df.views, ctr_df.ctr)\n",
    "    sim.create_group('a')\n",
    "    sim.create_group('b')\n",
    "    # Генерация выборок\n",
    "    sim.a.rvs(n_simulations, sample_size)\n",
    "    sim.b.rvs(n_simulations, sample_size)\n",
    "\n",
    "    # Тесты\n",
    "    pvals = ab.func_for_mtx_rows(\n",
    "        ss.ttest_ind,\n",
    "        sim.a.likes,\n",
    "        sim.b.likes,\n",
    "        cur_func_res_idx=1,\n",
    "        cur_func_print_info=True,\n",
    "        equal_var=False\n",
    "    )\n",
    "    fpr = (pvals < alpha).sum() / n_simulations\n",
    "    \n",
    "    print(fpr)\n",
    "    \n",
    "simulation()\n",
    "# Роботает"
   ]
  },
  {
   "cell_type": "code",
   "execution_count": 11,
   "metadata": {},
   "outputs": [],
   "source": [
    "# Тестовая выборка\n",
    "views_dif = lambda x: (\n",
    "    x + \n",
    "    (1 + np.random.binomial(1, 0.5, size=x.size))\n",
    "    * np.random.binomial(1, 0.9, size=x.size)\n",
    "    * (x >= 50)\n",
    ")\n",
    "\n",
    "sim.create_group(\n",
    "    group_name='b',\n",
    "    views_dif=views_dif\n",
    ")"
   ]
  },
  {
   "cell_type": "code",
   "execution_count": 12,
   "metadata": {},
   "outputs": [
    {
     "name": "stdout",
     "output_type": "stream",
     "text": [
      "views mean dif: 0.8311600152395471\n"
     ]
    }
   ],
   "source": [
    "# Проверка внедрения изменений\n",
    "n_simulations = 500\n",
    "\n",
    "sim.a.rvs(n_simulations, sample_size)\n",
    "sim.b.rvs(n_simulations, sample_size)\n",
    "\n",
    "\n",
    "print(f'views mean dif: {sim.b.views.mean() - sim.a.views.mean()}')"
   ]
  },
  {
   "cell_type": "code",
   "execution_count": 14,
   "metadata": {},
   "outputs": [
    {
     "data": {
      "application/vnd.jupyter.widget-view+json": {
       "model_id": "b5c22f3c7c134ae4880bc08a23f62647",
       "version_major": 2,
       "version_minor": 0
      },
      "text/plain": [
       "0it [00:00, ?it/s]"
      ]
     },
     "metadata": {},
     "output_type": "display_data"
    },
    {
     "name": "stdout",
     "output_type": "stream",
     "text": [
      "0.243\n"
     ]
    }
   ],
   "source": [
    "# Мощность t-testa с поправкой Уэлча\n",
    "def simulation():  # Для экономии оперативы (???)\n",
    "    n_simulations = 1000\n",
    "    sample_size = int(df.views.shape[0] / 2)\n",
    "    alpha = 0.05\n",
    "    \n",
    "    # Создание групп\n",
    "    sim = DataSimulator(df.views, ctr_df.ctr)\n",
    "    sim.create_group('a')\n",
    "    sim.create_group('b', views_dif=views_dif)\n",
    "    # Генерация выборок\n",
    "    sim.a.rvs(n_simulations, sample_size)\n",
    "    sim.b.rvs(n_simulations, sample_size)\n",
    "\n",
    "    # Тесты\n",
    "    pvals = ab.func_for_mtx_rows(\n",
    "        ss.ttest_ind,\n",
    "        sim.a.likes,\n",
    "        sim.b.likes,\n",
    "        cur_func_res_idx=1,\n",
    "        cur_func_print_info=True,\n",
    "        equal_var=False\n",
    "    )\n",
    "    power = (pvals < alpha).sum() / n_simulations\n",
    "    \n",
    "    print(power)\n",
    "    \n",
    "simulation()"
   ]
  },
  {
   "cell_type": "markdown",
   "metadata": {},
   "source": [
    "Поразительно низкий показатель\n",
    "\n",
    "Ф"
   ]
  },
  {
   "cell_type": "code",
   "execution_count": 15,
   "metadata": {},
   "outputs": [],
   "source": [
    "def power_calc(sample_size, views_df, ctr_df, threshold, nsim=1000):\n",
    "    \"\"\"\n",
    "    Считает мощность для t-теста при заданных параметрах распределения и эффекта\n",
    "    :param sample_size: размер выборок\n",
    "    :param views_df: датафрейм со значениями просмотров и их вероятностями\n",
    "    :param ctr_df: датафрейм со значениями прользовательских CTR и их вероятностями\n",
    "    :param threshold: порог просмотров, после которого начинает действовать алгоритм\n",
    "    :param nsim: количество симуляций (по умолчанию 1000)\n",
    "    :return: значение мощности от 0 до 1\n",
    "    \"\"\"\n",
    "\n",
    "    pvalues = [] #список, куда мы будем складывать p-value\n",
    "    rng = np.random.default_rng() #генератор случайных чисел\n",
    "\n",
    "    #симуляируем и сравниваем выборки nsim раз:\n",
    "\n",
    "    for _ in tqdm(range(nsim)):\n",
    "\n",
    "        #симулируем просмотры\n",
    "        group_A_views = rng.choice(a=views_df.views, size=sample_size, replace=True, p=views_df.p).astype(\"int64\")\n",
    "        group_B_views = rng.choice(a=views_df.views, size=sample_size, replace=True, p=views_df.p).astype(\"int64\")\n",
    "\n",
    "        #симулируем эффект в тестовой группе\n",
    "        group_B_views = group_B_views + (rng.binomial(n=1, p=0.9, size=sample_size) * (1 + rng.binomial(n=1, p=0.5, size=sample_size)) * (group_B_views >= threshold))\n",
    "        group_B_views = group_B_views.astype(\"int64\")\n",
    "\n",
    "        #симулируем CTR\n",
    "        group_A_ctr = rng.choice(a=ctr_df.ctr, size=sample_size, replace=True, p=ctr_df.p)\n",
    "        group_B_ctr = rng.choice(a=ctr_df.ctr, size=sample_size, replace=True, p=ctr_df.p)\n",
    "\n",
    "        #симулируем лайки\n",
    "        clicks_A = rng.binomial(n=group_A_views, p=group_A_ctr)\n",
    "        clicks_B = rng.binomial(n=group_B_views, p=group_B_ctr)\n",
    "\n",
    "        #сравниваем t-тестом и сохраняем p-value\n",
    "        pvalues.append(ss.ttest_ind(clicks_A, clicks_B, equal_var=False).pvalue)\n",
    "\n",
    "    #возвращаем мощность\n",
    "    return np.mean(np.array(pvalues) < 0.05)"
   ]
  },
  {
   "cell_type": "code",
   "execution_count": 16,
   "metadata": {},
   "outputs": [
    {
     "data": {
      "text/html": [
       "<div>\n",
       "<style scoped>\n",
       "    .dataframe tbody tr th:only-of-type {\n",
       "        vertical-align: middle;\n",
       "    }\n",
       "\n",
       "    .dataframe tbody tr th {\n",
       "        vertical-align: top;\n",
       "    }\n",
       "\n",
       "    .dataframe thead th {\n",
       "        text-align: right;\n",
       "    }\n",
       "</style>\n",
       "<table border=\"1\" class=\"dataframe\">\n",
       "  <thead>\n",
       "    <tr style=\"text-align: right;\">\n",
       "      <th></th>\n",
       "      <th>views</th>\n",
       "      <th>p</th>\n",
       "    </tr>\n",
       "  </thead>\n",
       "  <tbody>\n",
       "    <tr>\n",
       "      <th>0</th>\n",
       "      <td>16</td>\n",
       "      <td>0.012977</td>\n",
       "    </tr>\n",
       "    <tr>\n",
       "      <th>1</th>\n",
       "      <td>15</td>\n",
       "      <td>0.012787</td>\n",
       "    </tr>\n",
       "    <tr>\n",
       "      <th>2</th>\n",
       "      <td>14</td>\n",
       "      <td>0.011906</td>\n",
       "    </tr>\n",
       "    <tr>\n",
       "      <th>3</th>\n",
       "      <td>35</td>\n",
       "      <td>0.011548</td>\n",
       "    </tr>\n",
       "    <tr>\n",
       "      <th>4</th>\n",
       "      <td>30</td>\n",
       "      <td>0.011167</td>\n",
       "    </tr>\n",
       "    <tr>\n",
       "      <th>...</th>\n",
       "      <td>...</td>\n",
       "      <td>...</td>\n",
       "    </tr>\n",
       "    <tr>\n",
       "      <th>296</th>\n",
       "      <td>320</td>\n",
       "      <td>0.000024</td>\n",
       "    </tr>\n",
       "    <tr>\n",
       "      <th>297</th>\n",
       "      <td>254</td>\n",
       "      <td>0.000024</td>\n",
       "    </tr>\n",
       "    <tr>\n",
       "      <th>298</th>\n",
       "      <td>326</td>\n",
       "      <td>0.000024</td>\n",
       "    </tr>\n",
       "    <tr>\n",
       "      <th>299</th>\n",
       "      <td>270</td>\n",
       "      <td>0.000024</td>\n",
       "    </tr>\n",
       "    <tr>\n",
       "      <th>300</th>\n",
       "      <td>364</td>\n",
       "      <td>0.000024</td>\n",
       "    </tr>\n",
       "  </tbody>\n",
       "</table>\n",
       "<p>301 rows × 2 columns</p>\n",
       "</div>"
      ],
      "text/plain": [
       "     views         p\n",
       "0       16  0.012977\n",
       "1       15  0.012787\n",
       "2       14  0.011906\n",
       "3       35  0.011548\n",
       "4       30  0.011167\n",
       "..     ...       ...\n",
       "296    320  0.000024\n",
       "297    254  0.000024\n",
       "298    326  0.000024\n",
       "299    270  0.000024\n",
       "300    364  0.000024\n",
       "\n",
       "[301 rows x 2 columns]"
      ]
     },
     "execution_count": 16,
     "metadata": {},
     "output_type": "execute_result"
    }
   ],
   "source": [
    "col = 'views'\n",
    "views_distribution = (\n",
    "    df[col].value_counts(normalize=True)\n",
    "    .to_frame('values').reset_index()\n",
    "    .rename(columns={'index': col, 'values': 'p'})\n",
    ")\n",
    "views_distribution"
   ]
  },
  {
   "cell_type": "code",
   "execution_count": 17,
   "metadata": {},
   "outputs": [
    {
     "data": {
      "text/html": [
       "<div>\n",
       "<style scoped>\n",
       "    .dataframe tbody tr th:only-of-type {\n",
       "        vertical-align: middle;\n",
       "    }\n",
       "\n",
       "    .dataframe tbody tr th {\n",
       "        vertical-align: top;\n",
       "    }\n",
       "\n",
       "    .dataframe thead th {\n",
       "        text-align: right;\n",
       "    }\n",
       "</style>\n",
       "<table border=\"1\" class=\"dataframe\">\n",
       "  <thead>\n",
       "    <tr style=\"text-align: right;\">\n",
       "      <th></th>\n",
       "      <th>ctr</th>\n",
       "      <th>p</th>\n",
       "    </tr>\n",
       "  </thead>\n",
       "  <tbody>\n",
       "    <tr>\n",
       "      <th>23</th>\n",
       "      <td>0.00</td>\n",
       "      <td>0.016952</td>\n",
       "    </tr>\n",
       "    <tr>\n",
       "      <th>54</th>\n",
       "      <td>0.02</td>\n",
       "      <td>0.000564</td>\n",
       "    </tr>\n",
       "    <tr>\n",
       "      <th>46</th>\n",
       "      <td>0.03</td>\n",
       "      <td>0.001668</td>\n",
       "    </tr>\n",
       "    <tr>\n",
       "      <th>39</th>\n",
       "      <td>0.04</td>\n",
       "      <td>0.003665</td>\n",
       "    </tr>\n",
       "    <tr>\n",
       "      <th>33</th>\n",
       "      <td>0.05</td>\n",
       "      <td>0.008541</td>\n",
       "    </tr>\n",
       "    <tr>\n",
       "      <th>...</th>\n",
       "      <td>...</td>\n",
       "      <td>...</td>\n",
       "    </tr>\n",
       "    <tr>\n",
       "      <th>75</th>\n",
       "      <td>0.81</td>\n",
       "      <td>0.000023</td>\n",
       "    </tr>\n",
       "    <tr>\n",
       "      <th>79</th>\n",
       "      <td>0.83</td>\n",
       "      <td>0.000012</td>\n",
       "    </tr>\n",
       "    <tr>\n",
       "      <th>72</th>\n",
       "      <td>0.85</td>\n",
       "      <td>0.000035</td>\n",
       "    </tr>\n",
       "    <tr>\n",
       "      <th>77</th>\n",
       "      <td>0.88</td>\n",
       "      <td>0.000012</td>\n",
       "    </tr>\n",
       "    <tr>\n",
       "      <th>78</th>\n",
       "      <td>1.00</td>\n",
       "      <td>0.000012</td>\n",
       "    </tr>\n",
       "  </tbody>\n",
       "</table>\n",
       "<p>80 rows × 2 columns</p>\n",
       "</div>"
      ],
      "text/plain": [
       "     ctr         p\n",
       "23  0.00  0.016952\n",
       "54  0.02  0.000564\n",
       "46  0.03  0.001668\n",
       "39  0.04  0.003665\n",
       "33  0.05  0.008541\n",
       "..   ...       ...\n",
       "75  0.81  0.000023\n",
       "79  0.83  0.000012\n",
       "72  0.85  0.000035\n",
       "77  0.88  0.000012\n",
       "78  1.00  0.000012\n",
       "\n",
       "[80 rows x 2 columns]"
      ]
     },
     "execution_count": 17,
     "metadata": {},
     "output_type": "execute_result"
    }
   ],
   "source": [
    "col = 'ctr'\n",
    "ctr_distribution = (\n",
    "    ctr_df[col].value_counts(normalize=True)\n",
    "    .to_frame('values').reset_index()\n",
    "    .rename(columns={'index': col, 'values': 'p'})\n",
    ")\n",
    "ctr_distribution.sort_values('ctr')"
   ]
  },
  {
   "cell_type": "code",
   "execution_count": 18,
   "metadata": {},
   "outputs": [
    {
     "name": "stderr",
     "output_type": "stream",
     "text": [
      "100%|█████████████████████████████████████████████████████████████████████████████| 1000/1000 [00:09<00:00, 109.21it/s]\n"
     ]
    },
    {
     "data": {
      "text/plain": [
       "0.255"
      ]
     },
     "execution_count": 18,
     "metadata": {},
     "output_type": "execute_result"
    }
   ],
   "source": [
    "power_calc(sample_size=20998, views_df=views_distribution, ctr_df=ctr_distribution, threshold=50, nsim=1000)"
   ]
  },
  {
   "cell_type": "markdown",
   "metadata": {},
   "source": [
    "---------------------\n",
    "# Задание 2\n",
    "Коллеги улучшили алгоритм. Теперь он срабатывает на пользователях с числом просмотров от 30 и выше."
   ]
  },
  {
   "cell_type": "code",
   "execution_count": 19,
   "metadata": {},
   "outputs": [],
   "source": [
    "# Тестовая выборка\n",
    "views_dif = lambda x: (\n",
    "    x + \n",
    "    (1 + np.random.binomial(1, 0.5, size=x.size))\n",
    "    * np.random.binomial(1, 0.9, size=x.size)\n",
    "    * (x >= 30)\n",
    ")"
   ]
  },
  {
   "cell_type": "code",
   "execution_count": 20,
   "metadata": {},
   "outputs": [
    {
     "data": {
      "application/vnd.jupyter.widget-view+json": {
       "model_id": "b5d50cb3707e4bc1b34b524fa330dc33",
       "version_major": 2,
       "version_minor": 0
      },
      "text/plain": [
       "0it [00:00, ?it/s]"
      ]
     },
     "metadata": {},
     "output_type": "display_data"
    },
    {
     "name": "stdout",
     "output_type": "stream",
     "text": [
      "0.4124\n"
     ]
    }
   ],
   "source": [
    "# Мощность t-testa с поправкой Уэлча\n",
    "def simulation():  # Для экономии оперативы (???)\n",
    "    n_simulations = 10000\n",
    "    sample_size = int(df.views.shape[0] / 2)\n",
    "    alpha = 0.05\n",
    "    \n",
    "    # Создание групп\n",
    "    sim = DataSimulator(df.views, ctr_df.ctr)\n",
    "    sim.create_group('a')\n",
    "    sim.create_group('b', views_dif=views_dif)\n",
    "    # Генерация выборок\n",
    "    sim.a.rvs(n_simulations, sample_size)\n",
    "    sim.b.rvs(n_simulations, sample_size)\n",
    "\n",
    "    # Тесты\n",
    "    pvals = ab.func_for_mtx_rows(\n",
    "        ss.ttest_ind,\n",
    "        sim.a.likes,\n",
    "        sim.b.likes,\n",
    "        cur_func_res_idx=1,\n",
    "        cur_func_print_info=True,\n",
    "        equal_var=False\n",
    "    )\n",
    "    power = (pvals < alpha).sum() / n_simulations\n",
    "    \n",
    "    print(power)\n",
    "    \n",
    "simulation()"
   ]
  },
  {
   "cell_type": "markdown",
   "metadata": {},
   "source": [
    "Стало не сильно лучше"
   ]
  },
  {
   "cell_type": "markdown",
   "metadata": {},
   "source": [
    "----------------\n",
    "# Задание 3\n",
    "Утвердили длительность эксперимента длиной в 2 недели. \n",
    "\n",
    "Пришло столько же пользователей, сколько за период AA ('2024-02-23'-'2024-02-29') и AB ('2024-03-01' - '2024-03-07') теста"
   ]
  },
  {
   "cell_type": "code",
   "execution_count": 23,
   "metadata": {},
   "outputs": [
    {
     "data": {
      "text/plain": [
       "61182"
      ]
     },
     "execution_count": 23,
     "metadata": {},
     "output_type": "execute_result"
    }
   ],
   "source": [
    "date_start = \"\"\n",
    "date_end = \"\"\n",
    "\n",
    "q = f\"\"\"\n",
    "WITH \n",
    "filtered_data AS (\n",
    "    SELECT\n",
    "        user_id,\n",
    "        toDate(time) AS date\n",
    "    FROM {db}.feed_actions\n",
    "    WHERE \n",
    "        date BETWEEN toDate('2024-02-23') AND toDate('2024-02-29')\n",
    "        OR date BETWEEN toDate('2024-03-01') AND toDate('2024-03-07')\n",
    ")\n",
    "\n",
    "SELECT COUNT(DISTINCT user_id) AS users\n",
    "FROM filtered_data\n",
    "\"\"\"\n",
    "\n",
    "n_users = pandahouse.read_clickhouse(q, connection=connection).users.values[0]\n",
    "n_users"
   ]
  },
  {
   "cell_type": "code",
   "execution_count": 76,
   "metadata": {},
   "outputs": [],
   "source": [
    "# Тестовая выборка\n",
    "views_dif = lambda x: (\n",
    "    x + \n",
    "    (1 + np.random.binomial(1, 0.5, size=x.size))\n",
    "    * np.random.binomial(1, 0.9, size=x.size)\n",
    "    * (x >= 30)\n",
    ")"
   ]
  },
  {
   "cell_type": "code",
   "execution_count": 24,
   "metadata": {},
   "outputs": [
    {
     "data": {
      "text/plain": [
       "30591"
      ]
     },
     "execution_count": 24,
     "metadata": {},
     "output_type": "execute_result"
    }
   ],
   "source": [
    "sample_size = int(n_users / 2)\n",
    "sample_size"
   ]
  },
  {
   "cell_type": "markdown",
   "metadata": {},
   "source": [
    "Выборка увеличилась в ~1.5 раза"
   ]
  },
  {
   "cell_type": "code",
   "execution_count": 27,
   "metadata": {},
   "outputs": [
    {
     "data": {
      "application/vnd.jupyter.widget-view+json": {
       "model_id": "c5950bc8bfb043ceb0e9aa6d2565c5f9",
       "version_major": 2,
       "version_minor": 0
      },
      "text/plain": [
       "0it [00:00, ?it/s]"
      ]
     },
     "metadata": {},
     "output_type": "display_data"
    },
    {
     "data": {
      "text/plain": [
       "0.5666"
      ]
     },
     "execution_count": 27,
     "metadata": {},
     "output_type": "execute_result"
    }
   ],
   "source": [
    "# Мощность t-testa с поправкой Уэлча\n",
    "n_simulations = 10000\n",
    "sample_size = int(n_users / 2)\n",
    "alpha = 0.05\n",
    "\n",
    "# Создание групп\n",
    "sim = DataSimulator(df.views, ctr_df.ctr)\n",
    "sim.create_group('a')\n",
    "sim.create_group('b', views_dif=views_dif)\n",
    "# Генерация выборок\n",
    "sim.a.rvs(n_simulations, sample_size)\n",
    "sim.b.rvs(n_simulations, sample_size)\n",
    "\n",
    "# Тесты\n",
    "pvals = ab.func_for_mtx_rows(\n",
    "    ss.ttest_ind,\n",
    "    sim.a.likes,\n",
    "    sim.b.likes,\n",
    "    cur_func_res_idx=1,\n",
    "    cur_func_print_info=True,\n",
    "    equal_var=False\n",
    ")\n",
    "power = (pvals < alpha).sum() / n_simulations\n",
    "    \n",
    "power"
   ]
  },
  {
   "cell_type": "markdown",
   "metadata": {},
   "source": [
    "Уже лучше"
   ]
  },
  {
   "cell_type": "markdown",
   "metadata": {},
   "source": [
    "------------\n",
    "# Задача 4\n",
    "Что если в выборку будем брать только пользователей, которых могло затронуть изменение?"
   ]
  },
  {
   "cell_type": "code",
   "execution_count": 47,
   "metadata": {},
   "outputs": [
    {
     "data": {
      "text/plain": [
       "30591"
      ]
     },
     "execution_count": 47,
     "metadata": {},
     "output_type": "execute_result"
    }
   ],
   "source": [
    "sample_size"
   ]
  },
  {
   "cell_type": "code",
   "execution_count": 48,
   "metadata": {},
   "outputs": [],
   "source": [
    "def power_calc(sample_size, views, ctr, threshold, nsim=1000):\n",
    "    pvalues = [] #список, куда мы будем складывать p-value\n",
    "    rng = np.random.default_rng() #генератор случайных чисел\n",
    "\n",
    "    #симуляируем и сравниваем выборки nsim раз:\n",
    "\n",
    "    for _ in tqdm(range(nsim)):\n",
    "\n",
    "        #симулируем просмотры\n",
    "        group_A_views = rng.choice(a=views, size=sample_size, replace=True).astype(\"int64\")\n",
    "        group_B_views = rng.choice(a=views, size=sample_size, replace=True).astype(\"int64\")\n",
    "\n",
    "        #симулируем эффект в тестовой группе\n",
    "        group_B_views = group_B_views + rng.binomial(n=1, p=0.9, size=sample_size) * (1 + rng.binomial(n=1, p=0.5, size=sample_size))\n",
    "        group_B_views = group_B_views.astype(\"int64\")\n",
    "\n",
    "        #симулируем CTR\n",
    "        group_A_ctr = rng.choice(a=ctr, size=sample_size, replace=True)\n",
    "        group_B_ctr = rng.choice(a=ctr, size=sample_size, replace=True)\n",
    "\n",
    "        #симулируем лайки\n",
    "        clicks_A = rng.binomial(n=group_A_views, p=group_A_ctr)\n",
    "        clicks_B = rng.binomial(n=group_B_views, p=group_B_ctr)\n",
    "        \n",
    "        mask_A = group_A_views >= threshold\n",
    "        mask_B = group_B_views >= threshold\n",
    "\n",
    "        #сравниваем t-тестом и сохраняем p-value\n",
    "        pvalues.append(ss.ttest_ind(clicks_A[mask_A], clicks_B[mask_B], equal_var=False).pvalue)\n",
    "\n",
    "    #возвращаем мощность\n",
    "    return np.mean(np.array(pvalues) < 0.05)"
   ]
  },
  {
   "cell_type": "code",
   "execution_count": 49,
   "metadata": {},
   "outputs": [
    {
     "name": "stderr",
     "output_type": "stream",
     "text": [
      "100%|█████████████████████████████████████████████████████████████████████████████| 1000/1000 [00:08<00:00, 119.82it/s]\n"
     ]
    },
    {
     "data": {
      "text/plain": [
       "0.107"
      ]
     },
     "execution_count": 49,
     "metadata": {},
     "output_type": "execute_result"
    }
   ],
   "source": [
    "power_calc(sample_size, df.views, ctr_df.ctr, threshold=30, nsim=1000)"
   ]
  },
  {
   "cell_type": "markdown",
   "metadata": {},
   "source": [
    "-----------\n",
    "# Выводы:\n",
    "Положительно влияет на мощность:\n",
    "- больший MDE\n",
    "- больший размер выборки\n",
    "- меньший шум (сравнивать целевые квантили)"
   ]
  }
 ],
 "metadata": {
  "kernelspec": {
   "display_name": "Python 3 (ipykernel)",
   "language": "python",
   "name": "python3"
  },
  "language_info": {
   "codemirror_mode": {
    "name": "ipython",
    "version": 3
   },
   "file_extension": ".py",
   "mimetype": "text/x-python",
   "name": "python",
   "nbconvert_exporter": "python",
   "pygments_lexer": "ipython3",
   "version": "3.11.4"
  }
 },
 "nbformat": 4,
 "nbformat_minor": 4
}
