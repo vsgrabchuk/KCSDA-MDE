{
 "cells": [
  {
   "cell_type": "code",
   "execution_count": 32,
   "metadata": {},
   "outputs": [],
   "source": [
    "import functools as ft\n",
    "\n",
    "import pandas as pd\n",
    "import numpy as np\n",
    "import scipy.stats as ss\n",
    "import swifter\n",
    "from gvs_ab import gvs_ab as ab\n",
    "\n",
    "import pandahouse\n",
    "\n",
    "import matplotlib.pyplot as plt\n",
    "import seaborn as sns\n",
    "from tqdm import tqdm"
   ]
  },
  {
   "cell_type": "markdown",
   "metadata": {},
   "source": [
    "# Задача 1\n",
    "\n",
    "Коллеги из ML отдела предложили новый алгоритм:\n",
    "- добавляет пользователям 1-2 просмотра\n",
    "- вероятность работоспособности 90%\n",
    "- если у пользователя меньше 50 просмотров, то алгоритм не сработает\n",
    "\n",
    "Увеличится ли при этом количество лайков на пользователя? Надо Монте-Карлить!\n",
    "\n",
    "План\n",
    "- Есть данные по AA-тестам за '2024-02-23'-'2024-02-29'\n",
    "- Выгрузить данные по пользователям, полагая что по ним можно моделировать актуальное поведение пользователей\n",
    "- Сымитируем эффект алгоритма на просмотры: \n",
    "    - group_B_views + ((1 + np.binomial(n=1, p=0.5, size=размер_выборки)) * np.binomial(n=1, p=0.9, size=размер_выборки) * (group_B_views >= 50))\n",
    "    - views + (1 + Binomial(n, 0.5)) * (1 + Binomial(n, 0.9)) * (views >= 50)\n",
    "- Проведём 20к симуляций, используя t-тест\n",
    "- Уровень значимости 0.05."
   ]
  },
  {
   "cell_type": "markdown",
   "metadata": {},
   "source": [
    "# Калькулятор размера выборки"
   ]
  },
  {
   "cell_type": "markdown",
   "metadata": {},
   "source": [
    "Необходимый размер выборки\n",
    "\n",
    "$$n > \\frac{\\left[ \\Phi^{-1} \\left( 1-\\alpha /2 \\right) + \\Phi^{-1} \\left( 1-\\beta \\right) \\right]^2 (\\sigma_X^2 + \\sigma_Y^2)}{\\varepsilon^2}$$\n",
    "\n",
    "- $\\varepsilon$ - размер эффекта, \n",
    "- $\\alpha$ - вероятность ошибки первого рода, \n",
    "- $\\beta$ - вероятность ошибки 2 рода\n",
    "\n",
    "=> необходимо задать требуемые: $\\varepsilon$, $\\alpha$, $\\beta$"
   ]
  },
  {
   "cell_type": "markdown",
   "metadata": {},
   "source": [
    "Пусть ищем отличия в CTR с удовлетворяющими параметрами:\n",
    "- $\\varepsilon = 0.01$ п.п.\n",
    "- $\\alpha = 0.05$\n",
    "- $\\beta = 0.2$"
   ]
  },
  {
   "cell_type": "markdown",
   "metadata": {},
   "source": [
    "## Расчёт размеров выборки"
   ]
  },
  {
   "cell_type": "code",
   "execution_count": 33,
   "metadata": {},
   "outputs": [],
   "source": [
    "# Подключение к БД\n",
    "connection = {\n",
    "    'host': 'https://clickhouse.lab.karpov.courses',\n",
    "    'password': 'dpo_python_2020',\n",
    "    'user': 'student',\n",
    "    'database': 'simulator'\n",
    "}\n",
    "# db='simulator_20240320'\n",
    "db='simulator'"
   ]
  },
  {
   "cell_type": "code",
   "execution_count": 34,
   "metadata": {},
   "outputs": [
    {
     "data": {
      "text/html": [
       "<div>\n",
       "<style scoped>\n",
       "    .dataframe tbody tr th:only-of-type {\n",
       "        vertical-align: middle;\n",
       "    }\n",
       "\n",
       "    .dataframe tbody tr th {\n",
       "        vertical-align: top;\n",
       "    }\n",
       "\n",
       "    .dataframe thead th {\n",
       "        text-align: right;\n",
       "    }\n",
       "</style>\n",
       "<table border=\"1\" class=\"dataframe\">\n",
       "  <thead>\n",
       "    <tr style=\"text-align: right;\">\n",
       "      <th></th>\n",
       "      <th>date</th>\n",
       "      <th>user_id</th>\n",
       "      <th>exp_group</th>\n",
       "      <th>likes</th>\n",
       "      <th>views</th>\n",
       "    </tr>\n",
       "  </thead>\n",
       "  <tbody>\n",
       "    <tr>\n",
       "      <th>0</th>\n",
       "      <td>2021-11-10</td>\n",
       "      <td>15845</td>\n",
       "      <td>0</td>\n",
       "      <td>7</td>\n",
       "      <td>33</td>\n",
       "    </tr>\n",
       "    <tr>\n",
       "      <th>1</th>\n",
       "      <td>2021-11-10</td>\n",
       "      <td>122615</td>\n",
       "      <td>1</td>\n",
       "      <td>11</td>\n",
       "      <td>40</td>\n",
       "    </tr>\n",
       "    <tr>\n",
       "      <th>2</th>\n",
       "      <td>2021-11-09</td>\n",
       "      <td>13119</td>\n",
       "      <td>4</td>\n",
       "      <td>4</td>\n",
       "      <td>31</td>\n",
       "    </tr>\n",
       "    <tr>\n",
       "      <th>3</th>\n",
       "      <td>2021-11-12</td>\n",
       "      <td>18558</td>\n",
       "      <td>3</td>\n",
       "      <td>7</td>\n",
       "      <td>30</td>\n",
       "    </tr>\n",
       "    <tr>\n",
       "      <th>4</th>\n",
       "      <td>2021-11-08</td>\n",
       "      <td>1668</td>\n",
       "      <td>2</td>\n",
       "      <td>4</td>\n",
       "      <td>48</td>\n",
       "    </tr>\n",
       "    <tr>\n",
       "      <th>...</th>\n",
       "      <td>...</td>\n",
       "      <td>...</td>\n",
       "      <td>...</td>\n",
       "      <td>...</td>\n",
       "      <td>...</td>\n",
       "    </tr>\n",
       "    <tr>\n",
       "      <th>85564</th>\n",
       "      <td>2021-11-13</td>\n",
       "      <td>21034</td>\n",
       "      <td>4</td>\n",
       "      <td>10</td>\n",
       "      <td>35</td>\n",
       "    </tr>\n",
       "    <tr>\n",
       "      <th>85565</th>\n",
       "      <td>2021-11-10</td>\n",
       "      <td>116989</td>\n",
       "      <td>0</td>\n",
       "      <td>11</td>\n",
       "      <td>53</td>\n",
       "    </tr>\n",
       "    <tr>\n",
       "      <th>85566</th>\n",
       "      <td>2021-11-11</td>\n",
       "      <td>116040</td>\n",
       "      <td>1</td>\n",
       "      <td>3</td>\n",
       "      <td>16</td>\n",
       "    </tr>\n",
       "    <tr>\n",
       "      <th>85567</th>\n",
       "      <td>2021-11-13</td>\n",
       "      <td>118335</td>\n",
       "      <td>2</td>\n",
       "      <td>6</td>\n",
       "      <td>18</td>\n",
       "    </tr>\n",
       "    <tr>\n",
       "      <th>85568</th>\n",
       "      <td>2021-11-08</td>\n",
       "      <td>124310</td>\n",
       "      <td>3</td>\n",
       "      <td>13</td>\n",
       "      <td>55</td>\n",
       "    </tr>\n",
       "  </tbody>\n",
       "</table>\n",
       "<p>85569 rows × 5 columns</p>\n",
       "</div>"
      ],
      "text/plain": [
       "            date  user_id  exp_group  likes  views\n",
       "0     2021-11-10    15845          0      7     33\n",
       "1     2021-11-10   122615          1     11     40\n",
       "2     2021-11-09    13119          4      4     31\n",
       "3     2021-11-12    18558          3      7     30\n",
       "4     2021-11-08     1668          2      4     48\n",
       "...          ...      ...        ...    ...    ...\n",
       "85564 2021-11-13    21034          4     10     35\n",
       "85565 2021-11-10   116989          0     11     53\n",
       "85566 2021-11-11   116040          1      3     16\n",
       "85567 2021-11-13   118335          2      6     18\n",
       "85568 2021-11-08   124310          3     13     55\n",
       "\n",
       "[85569 rows x 5 columns]"
      ]
     },
     "execution_count": 34,
     "metadata": {},
     "output_type": "execute_result"
    }
   ],
   "source": [
    "# date_start = \"toDate('2024-03-01')\"\n",
    "# date_end = \"toDate('2024-03-07')\"\n",
    "date_start = \"toDate('2021-11-08')\"\n",
    "date_end = \"toDate('2021-11-14')\"\n",
    "\n",
    "\n",
    "q = f\"\"\"\n",
    "WITH \n",
    "filtered_data AS (\n",
    "    SELECT\n",
    "        user_id,\n",
    "        time,\n",
    "        exp_group,\n",
    "        action\n",
    "    FROM {db}.feed_actions\n",
    "    WHERE \n",
    "        time>={date_start} AND time<{date_end}+1\n",
    "),\n",
    "feed_actions AS (\n",
    "    -- Активность пользователей из интересующих групп за указанный период\n",
    "    SELECT\n",
    "        toDate(time) AS date,\n",
    "        user_id,\n",
    "        exp_group,\n",
    "        countIf(time, action='like') AS likes,\n",
    "        countIf(time, action='view') AS views\n",
    "    FROM filtered_data\n",
    "    GROUP BY date, user_id, exp_group\n",
    ")\n",
    "\n",
    "SELECT *\n",
    "FROM feed_actions\n",
    "\"\"\"\n",
    "\n",
    "df = pandahouse.read_clickhouse(q, connection=connection)\n",
    "df"
   ]
  },
  {
   "cell_type": "code",
   "execution_count": 35,
   "metadata": {
    "scrolled": true
   },
   "outputs": [
    {
     "data": {
      "text/html": [
       "<div>\n",
       "<style scoped>\n",
       "    .dataframe tbody tr th:only-of-type {\n",
       "        vertical-align: middle;\n",
       "    }\n",
       "\n",
       "    .dataframe tbody tr th {\n",
       "        vertical-align: top;\n",
       "    }\n",
       "\n",
       "    .dataframe thead th {\n",
       "        text-align: right;\n",
       "    }\n",
       "</style>\n",
       "<table border=\"1\" class=\"dataframe\">\n",
       "  <thead>\n",
       "    <tr style=\"text-align: right;\">\n",
       "      <th></th>\n",
       "      <th>date</th>\n",
       "      <th>views</th>\n",
       "      <th>likes</th>\n",
       "      <th>ctr</th>\n",
       "    </tr>\n",
       "  </thead>\n",
       "  <tbody>\n",
       "    <tr>\n",
       "      <th>0</th>\n",
       "      <td>2021-11-08</td>\n",
       "      <td>395721</td>\n",
       "      <td>80252</td>\n",
       "      <td>0.202799</td>\n",
       "    </tr>\n",
       "    <tr>\n",
       "      <th>1</th>\n",
       "      <td>2021-11-09</td>\n",
       "      <td>399625</td>\n",
       "      <td>81114</td>\n",
       "      <td>0.202975</td>\n",
       "    </tr>\n",
       "    <tr>\n",
       "      <th>2</th>\n",
       "      <td>2021-11-10</td>\n",
       "      <td>450062</td>\n",
       "      <td>93330</td>\n",
       "      <td>0.207371</td>\n",
       "    </tr>\n",
       "    <tr>\n",
       "      <th>3</th>\n",
       "      <td>2021-11-11</td>\n",
       "      <td>442453</td>\n",
       "      <td>91942</td>\n",
       "      <td>0.207801</td>\n",
       "    </tr>\n",
       "    <tr>\n",
       "      <th>4</th>\n",
       "      <td>2021-11-12</td>\n",
       "      <td>476835</td>\n",
       "      <td>105195</td>\n",
       "      <td>0.220611</td>\n",
       "    </tr>\n",
       "  </tbody>\n",
       "</table>\n",
       "</div>"
      ],
      "text/plain": [
       "        date   views   likes       ctr\n",
       "0 2021-11-08  395721   80252  0.202799\n",
       "1 2021-11-09  399625   81114  0.202975\n",
       "2 2021-11-10  450062   93330  0.207371\n",
       "3 2021-11-11  442453   91942  0.207801\n",
       "4 2021-11-12  476835  105195  0.220611"
      ]
     },
     "execution_count": 35,
     "metadata": {},
     "output_type": "execute_result"
    }
   ],
   "source": [
    "# Подневный CTR\n",
    "date_info = df.groupby('date', as_index=False)[['views', 'likes']].sum()\n",
    "date_info['ctr'] = date_info.likes / date_info.views\n",
    "date_info.head()"
   ]
  },
  {
   "cell_type": "code",
   "execution_count": 36,
   "metadata": {},
   "outputs": [
    {
     "data": {
      "image/png": "[encoded data removed]",
      "text/plain": [
       "<Figure size 640x480 with 1 Axes>"
      ]
     },
     "metadata": {},
     "output_type": "display_data"
    }
   ],
   "source": [
    "sns.lineplot(date_info, x='date', y='ctr');\n",
    "plt.xticks(rotation=45)\n",
    "plt.grid();"
   ]
  },
  {
   "cell_type": "code",
   "execution_count": 37,
   "metadata": {},
   "outputs": [
    {
     "data": {
      "text/plain": [
       "count    7.000000\n",
       "mean     0.210084\n",
       "std      0.006933\n",
       "min      0.202799\n",
       "25%      0.205173\n",
       "50%      0.207801\n",
       "75%      0.214517\n",
       "max      0.220611\n",
       "Name: ctr, dtype: float64"
      ]
     },
     "execution_count": 37,
     "metadata": {},
     "output_type": "execute_result"
    }
   ],
   "source": [
    "date_info.ctr.describe()"
   ]
  },
  {
   "cell_type": "code",
   "execution_count": 38,
   "metadata": {},
   "outputs": [
    {
     "data": {
      "text/html": [
       "<div>\n",
       "<style scoped>\n",
       "    .dataframe tbody tr th:only-of-type {\n",
       "        vertical-align: middle;\n",
       "    }\n",
       "\n",
       "    .dataframe tbody tr th {\n",
       "        vertical-align: top;\n",
       "    }\n",
       "\n",
       "    .dataframe thead th {\n",
       "        text-align: right;\n",
       "    }\n",
       "</style>\n",
       "<table border=\"1\" class=\"dataframe\">\n",
       "  <thead>\n",
       "    <tr style=\"text-align: right;\">\n",
       "      <th></th>\n",
       "      <th>user_id</th>\n",
       "      <th>views</th>\n",
       "      <th>likes</th>\n",
       "      <th>ctr</th>\n",
       "    </tr>\n",
       "  </thead>\n",
       "  <tbody>\n",
       "    <tr>\n",
       "      <th>0</th>\n",
       "      <td>200</td>\n",
       "      <td>36</td>\n",
       "      <td>12</td>\n",
       "      <td>0.333333</td>\n",
       "    </tr>\n",
       "    <tr>\n",
       "      <th>1</th>\n",
       "      <td>202</td>\n",
       "      <td>16</td>\n",
       "      <td>3</td>\n",
       "      <td>0.187500</td>\n",
       "    </tr>\n",
       "    <tr>\n",
       "      <th>2</th>\n",
       "      <td>203</td>\n",
       "      <td>14</td>\n",
       "      <td>7</td>\n",
       "      <td>0.500000</td>\n",
       "    </tr>\n",
       "    <tr>\n",
       "      <th>3</th>\n",
       "      <td>204</td>\n",
       "      <td>38</td>\n",
       "      <td>8</td>\n",
       "      <td>0.210526</td>\n",
       "    </tr>\n",
       "    <tr>\n",
       "      <th>4</th>\n",
       "      <td>206</td>\n",
       "      <td>11</td>\n",
       "      <td>2</td>\n",
       "      <td>0.181818</td>\n",
       "    </tr>\n",
       "  </tbody>\n",
       "</table>\n",
       "</div>"
      ],
      "text/plain": [
       "   user_id  views  likes       ctr\n",
       "0      200     36     12  0.333333\n",
       "1      202     16      3  0.187500\n",
       "2      203     14      7  0.500000\n",
       "3      204     38      8  0.210526\n",
       "4      206     11      2  0.181818"
      ]
     },
     "execution_count": 38,
     "metadata": {},
     "output_type": "execute_result"
    }
   ],
   "source": [
    "# Поюзерный CTR\n",
    "user_info = df.groupby('user_id', as_index=False)[['views', 'likes']].sum()\n",
    "user_info['ctr'] = user_info.likes / user_info.views\n",
    "user_info.head()"
   ]
  },
  {
   "cell_type": "code",
   "execution_count": 39,
   "metadata": {},
   "outputs": [
    {
     "data": {
      "image/png": "[encoded data removed]",
      "text/plain": [
       "<Figure size 640x480 with 1 Axes>"
      ]
     },
     "metadata": {},
     "output_type": "display_data"
    }
   ],
   "source": [
    "sns.histplot(user_info.ctr);\n",
    "plt.title('user CTR')\n",
    "plt.grid()"
   ]
  },
  {
   "cell_type": "code",
   "execution_count": 40,
   "metadata": {},
   "outputs": [
    {
     "data": {
      "text/plain": [
       "count    42585.000000\n",
       "mean         0.218015\n",
       "std          0.081250\n",
       "min          0.000000\n",
       "25%          0.164179\n",
       "50%          0.205479\n",
       "75%          0.259259\n",
       "max          0.833333\n",
       "Name: ctr, dtype: float64"
      ]
     },
     "execution_count": 40,
     "metadata": {},
     "output_type": "execute_result"
    }
   ],
   "source": [
    "user_info.ctr.describe()"
   ]
  },
  {
   "cell_type": "code",
   "execution_count": 41,
   "metadata": {},
   "outputs": [
    {
     "data": {
      "text/plain": [
       "0.08125006748054106"
      ]
     },
     "execution_count": 41,
     "metadata": {},
     "output_type": "execute_result"
    }
   ],
   "source": [
    "# std поюзерного CTR \n",
    "# (тк пытаемся найти необходимое количество юзеров)\n",
    "std = user_info.ctr.std()\n",
    "std"
   ]
  },
  {
   "cell_type": "code",
   "execution_count": 42,
   "metadata": {},
   "outputs": [
    {
     "data": {
      "text/plain": [
       "1037"
      ]
     },
     "execution_count": 42,
     "metadata": {},
     "output_type": "execute_result"
    }
   ],
   "source": [
    "# Требуемый размер выборки\n",
    "sample_size = ab.get_ttest_sample_size(0.01, std, std)\n",
    "sample_size"
   ]
  },
  {
   "cell_type": "markdown",
   "metadata": {},
   "source": [
    "## Проверка формулы. Синтетические тесты"
   ]
  },
  {
   "cell_type": "markdown",
   "metadata": {},
   "source": [
    "Научимся моделировать распределения просмотров, CTR, лайков для юзеров"
   ]
  },
  {
   "cell_type": "code",
   "execution_count": 43,
   "metadata": {},
   "outputs": [
    {
     "data": {
      "text/plain": [
       "42585"
      ]
     },
     "execution_count": 43,
     "metadata": {},
     "output_type": "execute_result"
    }
   ],
   "source": [
    "# Количество пользователей\n",
    "n_users = user_info.shape[0]\n",
    "n_users"
   ]
  },
  {
   "cell_type": "markdown",
   "metadata": {},
   "source": [
    "*user views distribution*"
   ]
  },
  {
   "cell_type": "code",
   "execution_count": 44,
   "metadata": {},
   "outputs": [
    {
     "data": {
      "image/png": "[encoded data removed]",
      "text/plain": [
       "<Figure size 640x480 with 1 Axes>"
      ]
     },
     "metadata": {},
     "output_type": "display_data"
    }
   ],
   "source": [
    "# Модель распределения просмотров\n",
    "\n",
    "# Гистограмма\n",
    "views_discrete_hist = user_info.views.value_counts(normalize=True)\n",
    "\n",
    "# Модель дискретного распределения\n",
    "views_distr = ss.rv_discrete(values=\n",
    "    (views_discrete_hist.index, views_discrete_hist.values)\n",
    ")\n",
    "\n",
    "# Проверка\n",
    "bins=50\n",
    "sns.histplot(\n",
    "    user_info.views,\n",
    "    bins=bins,\n",
    "    label='Реальные просмотры'\n",
    ");\n",
    "sns.histplot(\n",
    "    views_distr.rvs(size=n_users),\n",
    "    bins=bins,\n",
    "    label='Модельные просмотры'\n",
    ");\n",
    "plt.title('views');\n",
    "plt.legend()\n",
    "plt.grid();"
   ]
  },
  {
   "cell_type": "markdown",
   "metadata": {},
   "source": [
    "*user CTR distribution*"
   ]
  },
  {
   "cell_type": "code",
   "execution_count": 45,
   "metadata": {},
   "outputs": [
    {
     "data": {
      "image/png": "[encoded data removed]",
      "text/plain": [
       "<Figure size 640x480 with 1 Axes>"
      ]
     },
     "metadata": {},
     "output_type": "display_data"
    }
   ],
   "source": [
    "# Модель распределения ctr\n",
    "\n",
    "# Гистограмма\n",
    "ctr_discrete_hist = user_info.ctr.value_counts(normalize=True)\n",
    "\n",
    "# Модель дискретного распределения\n",
    "ctr_distr = ss.rv_discrete(values=\n",
    "    (ctr_discrete_hist.index, ctr_discrete_hist.values)\n",
    ")\n",
    "\n",
    "# Проверка\n",
    "bins=50\n",
    "sns.histplot(\n",
    "    user_info.ctr,\n",
    "    bins=bins,\n",
    "    label='Реальные CTR'\n",
    ");\n",
    "sns.histplot(\n",
    "    ctr_distr.rvs(size=n_users),\n",
    "    bins=bins,\n",
    "    label='Модельные CTR'\n",
    ");\n",
    "plt.title('CTR');\n",
    "plt.legend()\n",
    "plt.grid();"
   ]
  },
  {
   "cell_type": "markdown",
   "metadata": {},
   "source": [
    "*user likes distribution*\n",
    "\n",
    "Получается из комбинации распределений просмотров и CTR"
   ]
  },
  {
   "cell_type": "code",
   "execution_count": 46,
   "metadata": {},
   "outputs": [
    {
     "data": {
      "image/png": "[encoded data removed]",
      "text/plain": [
       "<Figure size 640x480 with 1 Axes>"
      ]
     },
     "metadata": {},
     "output_type": "display_data"
    }
   ],
   "source": [
    "views_model = views_distr.rvs(size=n_users).astype('int32')\n",
    "ctr_model = ctr_distr.rvs(size=n_users)\n",
    "\n",
    "likes_model = ss.binom.rvs(views_model, ctr_model)\n",
    "\n",
    "# Проверка\n",
    "bins=50\n",
    "sns.histplot(\n",
    "    user_info.likes,\n",
    "    bins=bins,\n",
    "    label='Реальные лайки'\n",
    ");\n",
    "sns.histplot(\n",
    "    likes_model,\n",
    "    bins=bins,\n",
    "    label='Модельные лайки'\n",
    ");\n",
    "plt.title('likes');\n",
    "plt.legend()\n",
    "plt.grid();"
   ]
  },
  {
   "cell_type": "markdown",
   "metadata": {},
   "source": [
    "Интересно, что модель даёт завышенные результаты, но форма распределений схожая. Основное, что нас интересует - CTR а он идентичен реальному"
   ]
  },
  {
   "cell_type": "code",
   "execution_count": 47,
   "metadata": {},
   "outputs": [
    {
     "data": {
      "image/png": "[encoded data removed]",
      "text/plain": [
       "<Figure size 640x480 with 1 Axes>"
      ]
     },
     "metadata": {},
     "output_type": "display_data"
    }
   ],
   "source": [
    "sns.histplot(likes_model/views_model - user_info.ctr);\n",
    "plt.title('ctr_model - ctr_real');\n",
    "plt.grid();"
   ]
  },
  {
   "cell_type": "markdown",
   "metadata": {},
   "source": [
    "### Синтетический A/A тест"
   ]
  },
  {
   "cell_type": "code",
   "execution_count": 48,
   "metadata": {},
   "outputs": [],
   "source": [
    "# Классы для генерирования правдоподобных данных\n",
    "\n",
    "class Group:\n",
    "    '''Контрольная/тестовая группа'''\n",
    "    def __init__(\n",
    "        self, \n",
    "        n_simulations, sample_size,  # Размеры\n",
    "        views_distr, ctr_distr,  # Распределения\n",
    "        ctr_mul  # Множитель для изменения CTR\n",
    "):\n",
    "        self.n_simulations = n_simulations\n",
    "        self.sample_size = sample_size\n",
    "        self.views_distr = views_distr\n",
    "        self.ctr_distr = ctr_distr\n",
    "        self.ctr_mul = ctr_mul\n",
    "        \n",
    "        self.views = None\n",
    "        self.ctr = None\n",
    "        self.likes = None\n",
    "        \n",
    "        self.create()\n",
    "        \n",
    "    def create(self):\n",
    "        #  Не нужно ли сдвигать распределение, а не наблюдения непосредственно?\n",
    "        self.views = self.views_distr.rvs(size=(self.n_simulations, self.sample_size)).astype('int32')\n",
    "        self.ctr_model = self.ctr_distr.rvs(size=(self.n_simulations, self.sample_size)) * self.ctr_mul\n",
    "        self.likes = ss.binom.rvs(self.views, self.ctr_model)\n",
    "        self.ctr = self.likes / self.views\n",
    "        \n",
    "\n",
    "class DataSimulator:\n",
    "    '''Источник симулированных данных'''\n",
    "    def __init__(\n",
    "        self, \n",
    "        n_simulations, sample_size,  # Размеры\n",
    "        views_distr, ctr_distr,  # Распределения\n",
    "        ctr_mul  # Множитель для изменения CTR    \n",
    "):\n",
    "        self.__n_simulations = n_simulations\n",
    "        self.__sample_size = sample_size\n",
    "        self.__views_distr = views_distr\n",
    "        self.__ctr_distr = ctr_distr\n",
    "        self.__ctr_mul = ctr_mul\n",
    "        \n",
    "        self.a = Group(\n",
    "            self.__n_simulations,\n",
    "            self.__sample_size,\n",
    "            self.__views_distr,\n",
    "            self.__ctr_distr,\n",
    "            1\n",
    "        )  # Контрольная группа\n",
    "        \n",
    "        self.b = Group(\n",
    "            self.__n_simulations,\n",
    "            self.__sample_size,\n",
    "            self.__views_distr,\n",
    "            self.__ctr_distr,\n",
    "            self.__ctr_mul\n",
    "        )  # Тестовая группа"
   ]
  },
  {
   "cell_type": "code",
   "execution_count": 49,
   "metadata": {},
   "outputs": [
    {
     "data": {
      "text/plain": [
       "1037"
      ]
     },
     "execution_count": 49,
     "metadata": {},
     "output_type": "execute_result"
    }
   ],
   "source": [
    "sample_size  # Расчётный размер выборки"
   ]
  },
  {
   "cell_type": "code",
   "execution_count": 64,
   "metadata": {},
   "outputs": [
    {
     "data": {
      "text/plain": [
       "0.0475"
      ]
     },
     "execution_count": 64,
     "metadata": {},
     "output_type": "execute_result"
    }
   ],
   "source": [
    "n_simulations = 2000  # Количество синтетических экспериментов\n",
    "alpha = 0.05  # Уровень значимости\n",
    "\n",
    "# Генерируем данные для выборок\n",
    "sim = DataSimulator(\n",
    "    n_simulations, sample_size,\n",
    "    views_distr, ctr_distr,\n",
    "    1\n",
    ")\n",
    "\n",
    "# Статтесты\n",
    "pvals = ab.func_for_mtx_rows(ss.ttest_ind, sim.a.ctr, sim.b.ctr, res_idx=1)\n",
    "\n",
    "fpr = sum(pvals < alpha) / n_simulations\n",
    "fpr"
   ]
  },
  {
   "cell_type": "markdown",
   "metadata": {},
   "source": [
    "FPR удовлетворительный (совпадает с тем, что был заложен при проектировании)"
   ]
  },
  {
   "cell_type": "markdown",
   "metadata": {},
   "source": [
    "### Синтетический A/B тест"
   ]
  },
  {
   "cell_type": "code",
   "execution_count": 51,
   "metadata": {},
   "outputs": [
    {
     "data": {
      "text/plain": [
       "1.04586845241024"
      ]
     },
     "execution_count": 51,
     "metadata": {},
     "output_type": "execute_result"
    }
   ],
   "source": [
    "# Во сколько раз необходимо изменить ctr для желаемого размера эффекта\n",
    "eps = 0.01  # Желаемый размер эффекта\n",
    "\n",
    "cur_ctr = user_info.ctr.mean()\n",
    "wish_ctr = cur_ctr + eps\n",
    "k = wish_ctr / cur_ctr\n",
    "k"
   ]
  },
  {
   "cell_type": "code",
   "execution_count": 52,
   "metadata": {},
   "outputs": [
    {
     "data": {
      "text/plain": [
       "1037"
      ]
     },
     "execution_count": 52,
     "metadata": {},
     "output_type": "execute_result"
    }
   ],
   "source": [
    "sample_size"
   ]
  },
  {
   "cell_type": "code",
   "execution_count": 53,
   "metadata": {},
   "outputs": [
    {
     "data": {
      "text/plain": [
       "0.4205"
      ]
     },
     "execution_count": 53,
     "metadata": {},
     "output_type": "execute_result"
    }
   ],
   "source": [
    "# Генерируем данные для выборок\n",
    "sim = DataSimulator(\n",
    "    n_simulations, sample_size,\n",
    "    views_distr, ctr_distr,\n",
    "    k\n",
    ")\n",
    "\n",
    "# Статтесты\n",
    "pvals = ab.func_for_mtx_rows(ss.ttest_ind, sim.a.ctr, sim.b.ctr, res_idx=1)\n",
    "\n",
    "fnr = 1 - sum(pvals < alpha) / n_simulations\n",
    "fnr"
   ]
  },
  {
   "cell_type": "markdown",
   "metadata": {},
   "source": [
    "Значение получается завышенное (в силу дополнительного шума, который мы вносим дополнительной случайностью моделирования - случайное сэмплирование для просмотров и ctr + лайки из биномиального распределения)"
   ]
  },
  {
   "cell_type": "code",
   "execution_count": 54,
   "metadata": {},
   "outputs": [
    {
     "data": {
      "text/plain": [
       "0.08125006748054106"
      ]
     },
     "execution_count": 54,
     "metadata": {},
     "output_type": "execute_result"
    }
   ],
   "source": [
    "# Реальное значение\n",
    "std"
   ]
  },
  {
   "cell_type": "code",
   "execution_count": 55,
   "metadata": {},
   "outputs": [
    {
     "data": {
      "text/plain": [
       "0.1019105664802527"
      ]
     },
     "execution_count": 55,
     "metadata": {},
     "output_type": "execute_result"
    }
   ],
   "source": [
    "# Модельное значение контрольной группы\n",
    "std_a = sim.a.ctr.std()\n",
    "std_a"
   ]
  },
  {
   "cell_type": "code",
   "execution_count": 56,
   "metadata": {},
   "outputs": [
    {
     "data": {
      "text/plain": [
       "0.1054140654380304"
      ]
     },
     "execution_count": 56,
     "metadata": {},
     "output_type": "execute_result"
    }
   ],
   "source": [
    "# Модельное значение тестовой группы\n",
    "std_b = sim.b.ctr.std()\n",
    "std_b"
   ]
  },
  {
   "cell_type": "markdown",
   "metadata": {},
   "source": [
    "=> модельные условия более жёсткие. При правильном дизайне эксперимента заявленные требования будут обеспечены с запасом\n",
    "\n",
    "Увеличим размер выборки"
   ]
  },
  {
   "cell_type": "code",
   "execution_count": 57,
   "metadata": {},
   "outputs": [
    {
     "data": {
      "text/plain": [
       "1688"
      ]
     },
     "execution_count": 57,
     "metadata": {},
     "output_type": "execute_result"
    }
   ],
   "source": [
    "ab.get_ttest_sample_size(0.01, std_a, std_b)"
   ]
  },
  {
   "cell_type": "code",
   "execution_count": 65,
   "metadata": {},
   "outputs": [
    {
     "data": {
      "text/plain": [
       "0.18999999999999995"
      ]
     },
     "execution_count": 65,
     "metadata": {},
     "output_type": "execute_result"
    }
   ],
   "source": [
    "sample_size = 1700\n",
    "\n",
    "# Генерируем данные для выборок\n",
    "sim = DataSimulator(\n",
    "    n_simulations, sample_size,\n",
    "    views_distr, ctr_distr,\n",
    "    k\n",
    ")\n",
    "\n",
    "# Статтесты\n",
    "pvals = ab.func_for_mtx_rows(ss.ttest_ind, sim.a.ctr, sim.b.ctr, res_idx=1)\n",
    "\n",
    "fnr = 1 - sum(pvals < alpha) / n_simulations\n",
    "fnr"
   ]
  },
  {
   "cell_type": "markdown",
   "metadata": {},
   "source": [
    "Бинго. Теперь все требования выполняются!\n",
    "\n",
    "Как при этом соотносится теория (fnr по формуле) с практикой (модельное fnr)?"
   ]
  },
  {
   "cell_type": "code",
   "execution_count": 59,
   "metadata": {},
   "outputs": [],
   "source": [
    "def get_formula_fnr(sample_size, eps, std_1, std_2, alpha=0.05):\n",
    "    fnr = 1 - ss.norm.cdf(\n",
    "        eps * np.sqrt(sample_size / (std_1**2 + std_2**2))\n",
    "        - ss.norm.ppf(1 - alpha/2)\n",
    "    )\n",
    "    return fnr"
   ]
  },
  {
   "cell_type": "code",
   "execution_count": 60,
   "metadata": {},
   "outputs": [
    {
     "name": "stderr",
     "output_type": "stream",
     "text": [
      "100%|██████████████████████████████████████████████████████████████████████████████████| 13/13 [01:25<00:00,  6.61s/it]\n"
     ]
    }
   ],
   "source": [
    "# Как соотносится теория с практикой\n",
    "mde = 0.01  # Детектируемое изменение CTR в п.п.\n",
    "n_simulations = 1000  # Количество симуляций\n",
    "sample_sizes = np.arange(800, 2001, 100)  # Размер выборки\n",
    "fnrs_model = []  # Данные из моделирований\n",
    "fnrs_formula_for_model = []  # Применение формулы для std, которые получаются при моделировании\n",
    "fnrs_formula = []  # Применение формулы для std реальных данных\n",
    "\n",
    "for sample_size in tqdm(sample_sizes):\n",
    "    # Генерируем данные для выборок\n",
    "    sim = DataSimulator(\n",
    "        n_simulations, sample_size,\n",
    "        views_distr, ctr_distr,\n",
    "        k\n",
    "    )\n",
    "    \n",
    "    # Модель\n",
    "    pvals = ab.func_for_mtx_rows(ss.ttest_ind, sim.a.ctr, sim.b.ctr, res_idx=1)\n",
    "    fnr = 1 - sum(pvals < alpha) / n_simulations\n",
    "    fnrs_model.append(fnr)\n",
    "    \n",
    "    # Формула для модели\n",
    "    fnr = get_formula_fnr(sample_size, mde, sim.a.ctr.std(), sim.b.ctr.std())\n",
    "    fnrs_formula_for_model.append(fnr)\n",
    "    \n",
    "    # Формула для реальных данных\n",
    "    fnr = get_formula_fnr(sample_size, mde, std, std*k)\n",
    "    fnrs_formula.append(fnr)\n",
    "\n",
    "fnrs_model = np.asarray(fnrs_model)\n",
    "fnrs_formula_for_model = np.asarray(fnrs_formula_for_model)\n",
    "fnrs_formula = np.asarray(fnrs_formula)"
   ]
  },
  {
   "cell_type": "code",
   "execution_count": 61,
   "metadata": {},
   "outputs": [
    {
     "data": {
      "image/png": "[encoded data removed]",
      "text/plain": [
       "<Figure size 640x480 with 1 Axes>"
      ]
     },
     "metadata": {},
     "output_type": "display_data"
    }
   ],
   "source": [
    "sns.lineplot(x=sample_sizes, y=1-fnrs_model, label='model');\n",
    "sns.lineplot(x=sample_sizes, y=1-fnrs_formula_for_model, label='model_formula');\n",
    "sns.lineplot(x=sample_sizes, y=1-fnrs_formula, label='formula');\n",
    "plt.ylabel('sensitivity');\n",
    "plt.xlabel('sample_size');\n",
    "plt.grid()\n",
    "plt.legend();"
   ]
  },
  {
   "cell_type": "markdown",
   "metadata": {},
   "source": [
    "#### Выводы:\n",
    "- формула для расчёта размера выборки работает крайне точно, если правильно задать std\n",
    "- если задать std исходных данных, то произойдёт ощутимая потеря точности формулы"
   ]
  },
  {
   "cell_type": "markdown",
   "metadata": {},
   "source": [
    "### Что с чувствительностью других тестов?"
   ]
  },
  {
   "cell_type": "code",
   "execution_count": 62,
   "metadata": {},
   "outputs": [],
   "source": [
    "def bucket_ctr_test(likes_a, views_a, likes_b, views_b, buckets=100, test=ss.ttest_ind):\n",
    "    a = pd.DataFrame({'likes': likes_a, 'views': views_a})\n",
    "    b = pd.DataFrame({'likes': likes_b, 'views': views_b})\n",
    "    \n",
    "    a = ab.bucketization(a, \n",
    "                         column=None, buckets=buckets, print_info=False)\n",
    "    b = ab.bucketization(b, \n",
    "                         column=None, buckets=buckets, print_info=False)\n",
    "    \n",
    "    a = a.groupby('bucket', as_index=False)[['likes', 'views']].sum()\n",
    "    a['ctr'] = a.likes / a.views\n",
    "    b = b.groupby('bucket', as_index=False)[['likes', 'views']].sum()\n",
    "    b['ctr'] = b.likes / b.views\n",
    "    \n",
    "    return test(a.ctr, b.ctr)"
   ]
  },
  {
   "cell_type": "code",
   "execution_count": null,
   "metadata": {},
   "outputs": [],
   "source": []
  },
  {
   "cell_type": "code",
   "execution_count": 75,
   "metadata": {},
   "outputs": [
    {
     "name": "stderr",
     "output_type": "stream",
     "text": [
      "100%|██████████████████████████████████████████████████████████████████████████████████| 13/13 [02:51<00:00, 13.20s/it]\n"
     ]
    }
   ],
   "source": [
    "mde = 0.01  # Детектируемое изменение CTR в п.п.\n",
    "n_simulations = 1000  # Количество симуляций\n",
    "sample_sizes = np.arange(800, 2001, 100)  # Размер выборки\n",
    "fnrs_t = []\n",
    "fnrs_u = []\n",
    "fnrs_bucket = []\n",
    "fnrs_lin = []\n",
    "\n",
    "for sample_size in tqdm(sample_sizes):\n",
    "    # Генерируем данные для выборок\n",
    "    sim = DataSimulator(\n",
    "        n_simulations, sample_size,\n",
    "        views_distr, ctr_distr,\n",
    "        k\n",
    "    )\n",
    "    \n",
    "    # t-test\n",
    "    pvals = ab.func_for_mtx_rows(ss.ttest_ind, sim.a.ctr, sim.b.ctr, res_idx=1)\n",
    "    fnr = 1 - sum(pvals < alpha) / n_simulations\n",
    "    fnrs_t.append(fnr)\n",
    "    \n",
    "    # U-test\n",
    "    pvals = ab.func_for_mtx_rows(ss.mannwhitneyu, sim.a.ctr, sim.b.ctr, res_idx=1)\n",
    "    fnr = 1 - sum(pvals < alpha) / n_simulations\n",
    "    fnrs_u.append(fnr)\n",
    "    \n",
    "    # buckets + t-test\n",
    "    pvals = ab.func_for_mtx_rows(\n",
    "        bucket_ctr_test, \n",
    "        sim.a.likes, sim.a.views, \n",
    "        sim.b.likes, sim.b.views, \n",
    "        res_idx=1\n",
    "    )\n",
    "    fnr = 1 - sum(pvals < alpha) / n_simulations\n",
    "    fnrs_bucket.append(fnr)\n",
    "    \n",
    "    # linearization + t-test\n",
    "    linearized_likes = ab.func_for_mtx_rows(\n",
    "        ab.linearization_ratio,\n",
    "        sim.a.likes, sim.a.views, \n",
    "        sim.b.likes, sim.b.views\n",
    "    )\n",
    "    pvals = np.array([ss.ttest_ind(a,b)[1] for a, b in linearized_likes])\n",
    "    fnr = 1 - sum(pvals < alpha) / n_simulations\n",
    "    fnrs_lin.append(fnr)\n",
    "    \n",
    "\n",
    "\n",
    "fnrs_t = np.asarray(fnrs_t)\n",
    "fnrs_u = np.asarray(fnrs_u)\n",
    "fnrs_bucket = np.asarray(fnrs_bucket)\n",
    "fnrs_lin = np.asarray(fnrs_lin)"
   ]
  },
  {
   "cell_type": "code",
   "execution_count": 77,
   "metadata": {},
   "outputs": [
    {
     "name": "stderr",
     "output_type": "stream",
     "text": [
      "100%|██████████████████████████████████████████████████████████████████████████████████| 13/13 [11:31<00:00, 53.21s/it]\n"
     ]
    }
   ],
   "source": [
    "n_simulations = 100  # Количество симуляций\n",
    "fnrs_bootstrap = []\n",
    "\n",
    "sample_sizes = np.arange(800, 2001, 100)  # Размер выборки\n",
    "\n",
    "for sample_size in tqdm(sample_sizes):\n",
    "    # Генерируем данные для выборок\n",
    "    sim = DataSimulator(\n",
    "        n_simulations, sample_size,\n",
    "        views_distr, ctr_distr,\n",
    "        k\n",
    "    )\n",
    "\n",
    "    # bootstrap\n",
    "    pvals = ab.func_for_mtx_rows(\n",
    "        ft.partial(ab.poisson_bootstrap_ctr, print_info=False),\n",
    "        sim.a.likes, sim.a.views, \n",
    "        sim.b.likes, sim.b.views,\n",
    "        res_idx=0\n",
    "    )\n",
    "    fnr = 1 - sum(pvals < alpha) / n_simulations\n",
    "    fnrs_bootstrap.append(fnr)"
   ]
  },
  {
   "cell_type": "code",
   "execution_count": 78,
   "metadata": {},
   "outputs": [],
   "source": [
    "fnrs_bootstrap = np.asarray(fnrs_bootstrap)"
   ]
  },
  {
   "cell_type": "code",
   "execution_count": 82,
   "metadata": {},
   "outputs": [
    {
     "data": {
      "image/png": "[encoded data removed]",
      "text/plain": [
       "<Figure size 640x480 with 1 Axes>"
      ]
     },
     "metadata": {},
     "output_type": "display_data"
    }
   ],
   "source": [
    "sns.lineplot(x=sample_sizes, y=1-fnrs_t, label='t-test');\n",
    "sns.lineplot(x=sample_sizes, y=1-fnrs_u, label='U-test');\n",
    "sns.lineplot(x=sample_sizes, y=1-fnrs_bucket, label='buckets + t-test');\n",
    "sns.lineplot(x=sample_sizes, y=1-fnrs_lin, label='linearization + t-test');\n",
    "sns.lineplot(x=sample_sizes, y=1-fnrs_bootstrap, label='bootstrap (less n_sims)');\n",
    "plt.ylabel('sensitivity');\n",
    "plt.xlabel('sample_size');\n",
    "plt.grid()\n",
    "plt.legend();"
   ]
  },
  {
   "cell_type": "markdown",
   "metadata": {},
   "source": [
    "# Бакетное преобразование"
   ]
  },
  {
   "cell_type": "code",
   "execution_count": null,
   "metadata": {},
   "outputs": [],
   "source": [
    "def bucketization(ctrs_0, weights_0, ctrs_1, weights_1, n_buckets=100):\n",
    "    \"\"\"\n",
    "    Разбиваем на бакеты с весами\n",
    "    :param ctrs_0: np.array shape (n_experiments, n_users), CTRs of every user from control group in every experiment\n",
    "    :param weights_0: np.array (n_experiments, n_users), веса пользователей в контрольной группе\n",
    "    :param ctrs_1: np.array (n_experiments, n_users), CTRs of every user from treatment group in every experiment\n",
    "    :param weights_1: np.array (n_experiments, n_users), веса пользователей в целевой группе\n",
    "    :param n_buckets: int, кол-во бакетов\n",
    "    :return: np.array shape (n_experiments), средневзвешенные метрики в каждом бакете\n",
    "    \"\"\"\n",
    "\n",
    "    n_experiments, n_users = ctrs_0.shape\n",
    "\n",
    "    values_0 = np.zeros((n_experiments, n_buckets))\n",
    "    values_1 = np.zeros((n_experiments, n_buckets))\n",
    "\n",
    "    for b in np.arange(n_buckets):\n",
    "        ind = np.arange(b * n_users / n_buckets, b * n_users / n_buckets + n_users / n_buckets).astype(np.int32)\n",
    "        values_0[:, b] = np.sum(ctrs_0[:, ind] * weights_0[:, ind], axis=1) / np.sum(weights_0[:, ind], axis=1)\n",
    "        values_1[:, b] = np.sum(ctrs_1[:, ind] * weights_1[:, ind], axis=1) / np.sum(weights_1[:, ind], axis=1)\n",
    "\n",
    "    return values_0, values_1"
   ]
  },
  {
   "cell_type": "code",
   "execution_count": null,
   "metadata": {},
   "outputs": [],
   "source": [
    "# t-тест поверх бакетов\n",
    "def t_test_buckets(ctrs_0, weights_0, ctrs_1, weights_1, n_buckets=100):\n",
    "    return t_test(*bucketization(ctrs_0, weights_0, ctrs_1, weights_1, n_buckets))\n",
    "\n",
    "# тест Манна-Уитни поверх бакетов\n",
    "def mannwhitney_buckets(ctrs_0, weights_0, ctrs_1, weights_1, n_buckets=100):\n",
    "    return mannwhitney(*bucketization(ctrs_0, weights_0, ctrs_1, weights_1, n_buckets))"
   ]
  },
  {
   "cell_type": "code",
   "execution_count": null,
   "metadata": {},
   "outputs": [],
   "source": [
    "p_values_ab = mannwhitney_buckets(\n",
    "        clicks_A/group_A_views, group_A_views,\n",
    "        clicks_B/group_B_views, group_B_views)"
   ]
  },
  {
   "cell_type": "code",
   "execution_count": null,
   "metadata": {},
   "outputs": [],
   "source": [
    "np.sum(p_values_ab<= 0.05)/2000"
   ]
  },
  {
   "cell_type": "markdown",
   "metadata": {},
   "source": [
    "# Линеаризация"
   ]
  },
  {
   "cell_type": "code",
   "execution_count": null,
   "metadata": {},
   "outputs": [],
   "source": [
    "group_A_views = views_distr.rvs(size = (2000, 2000)).astype(\"int32\")\n",
    "group_B_views = views_distr.rvs(size = (2000, 2000)).astype(\"int32\")\n",
    "group_A_ctr = get_ctrs(2000, 2000, distrib, values)*1.05\n",
    "group_B_ctr = get_ctrs(2000, 2000, distrib, values)\n",
    "clicks_A = stats.binom.rvs(group_A_views, group_A_ctr)\n",
    "clicks_B = stats.binom.rvs(group_B_views, group_B_ctr)"
   ]
  },
  {
   "cell_type": "code",
   "execution_count": null,
   "metadata": {},
   "outputs": [],
   "source": [
    "control_ctr = stats.binom.rvs(group_B_views, group_B_ctr).sum(axis = 1)/group_B_views.sum(axis = 1)"
   ]
  },
  {
   "cell_type": "code",
   "execution_count": null,
   "metadata": {},
   "outputs": [],
   "source": [
    "linearized_A = clicks_A - (group_A_views.T*control_ctr).T\n",
    "linearized_B = clicks_B - (group_B_views.T*control_ctr).T"
   ]
  },
  {
   "cell_type": "code",
   "execution_count": null,
   "metadata": {},
   "outputs": [],
   "source": [
    "linearization_p_values = t_test(linearized_A, linearized_B)"
   ]
  },
  {
   "cell_type": "code",
   "execution_count": null,
   "metadata": {},
   "outputs": [],
   "source": [
    "sum(linearization_p_values<=0.05)/2000"
   ]
  },
  {
   "cell_type": "markdown",
   "metadata": {},
   "source": [
    "# А на самом деле просмотры обычно выглядят не так..."
   ]
  },
  {
   "cell_type": "code",
   "execution_count": null,
   "metadata": {},
   "outputs": [],
   "source": [
    "mu = 1\n",
    "sigma2 = 1.5\n",
    "N = 1447\n",
    "experiments = 1000\n",
    "views_lognormal = np.absolute(np.exp(norm(mu, sigma2).rvs(\n",
    "    experiments * N)).astype(np.int64).reshape(experiments, N) + 1)"
   ]
  },
  {
   "cell_type": "code",
   "execution_count": null,
   "metadata": {},
   "outputs": [],
   "source": [
    "fig = plt.figure()\n",
    "ax_views = fig.add_subplot()\n",
    "views_distr = sns.histplot(views_lognormal.ravel(),  # Теперь это массив длины experiments * N\n",
    "                           bins=range(0, 30),\n",
    "                           kde=False,\n",
    "                           ax=ax_views,\n",
    "                           stat='probability')\n",
    "ax_views.set_xlim((0, 30))\n",
    "views_99_percentile = np.percentile(views_lognormal.ravel(), 99)\n",
    "ax_views.set_title(f'Views, 99%-ile = {views_99_percentile:<7.1f}')"
   ]
  },
  {
   "cell_type": "code",
   "execution_count": null,
   "metadata": {},
   "outputs": [],
   "source": [
    "def get_views(experiments, N, mu = 1, sigma = 1.5):\n",
    "    views_lognormal = np.absolute(\n",
    "        np.exp(\n",
    "            norm(mu, \n",
    "                 sigma2).rvs(experiments * N)\n",
    "        ).astype(np.int64).reshape(experiments, N) + 1)\n",
    "    return views_lognormal"
   ]
  },
  {
   "cell_type": "code",
   "execution_count": null,
   "metadata": {},
   "outputs": [],
   "source": [
    "group_A_views = get_views(2000, 11000).astype(\"int32\")\n",
    "group_B_views = get_views(2000, 11000).astype(\"int32\")\n",
    "group_A_ctr = get_ctrs(2000, 11000, distrib, values)*1.05\n",
    "group_B_ctr = get_ctrs(2000, 11000, distrib, values)\n",
    "clicks_A = stats.binom.rvs(group_A_views, group_A_ctr)\n",
    "clicks_B = stats.binom.rvs(group_B_views, group_B_ctr)"
   ]
  },
  {
   "cell_type": "code",
   "execution_count": null,
   "metadata": {},
   "outputs": [],
   "source": [
    "compute_sample_size_abs(0.01, 0.278, 0.278)"
   ]
  },
  {
   "cell_type": "code",
   "execution_count": null,
   "metadata": {},
   "outputs": [],
   "source": [
    "(clicks_B/group_B_views).std(axis = 1)[0]"
   ]
  },
  {
   "cell_type": "code",
   "execution_count": null,
   "metadata": {},
   "outputs": [],
   "source": [
    "np.sum(t_test(clicks_A/group_A_views, clicks_B/group_B_views)<= 0.05)/2000"
   ]
  },
  {
   "cell_type": "code",
   "execution_count": null,
   "metadata": {},
   "outputs": [],
   "source": [
    "np.sum(t_test_buckets(clicks_A/group_A_views, \n",
    "                      group_A_views,\n",
    "                      clicks_B/group_B_views, \n",
    "                      group_B_views)<= 0.05)/2000"
   ]
  },
  {
   "cell_type": "markdown",
   "metadata": {},
   "source": [
    "# А если я хочу сдвинуть медиану ..."
   ]
  },
  {
   "cell_type": "code",
   "execution_count": null,
   "metadata": {},
   "outputs": [],
   "source": [
    "def bucketization_median(ctrs_0, ctrs_1, n_buckets=100):\n",
    "    \"\"\"\n",
    "    Разбиваем на бакеты с весами\n",
    "    :param ctrs_0: np.array shape (n_experiments, n_users), CTRs of every user from control group in every experiment\n",
    "    :param weights_0: np.array (n_experiments, n_users), веса пользователей в контрольной группе\n",
    "    :param ctrs_1: np.array (n_experiments, n_users), CTRs of every user from treatment group in every experiment\n",
    "    :param weights_1: np.array (n_experiments, n_users), веса пользователей в целевой группе\n",
    "    :param n_buckets: int, кол-во бакетов\n",
    "    :return: np.array shape (n_experiments), средневзвешенные метрики в каждом бакете\n",
    "    \"\"\"\n",
    "\n",
    "    n_experiments, n_users = ctrs_0.shape\n",
    "\n",
    "    values_0 = np.zeros((n_experiments, n_buckets))\n",
    "    values_1 = np.zeros((n_experiments, n_buckets))\n",
    "\n",
    "    for b in np.arange(n_buckets):\n",
    "        ind = np.arange(b * n_users / n_buckets, b * n_users / n_buckets + n_users / n_buckets).astype(np.int32)\n",
    "        values_0[:, b] = np.median(ctrs_0[:, ind], axis=1)\n",
    "        values_1[:, b] = np.median(ctrs_1[:, ind], axis=1)\n",
    "\n",
    "    return values_0, values_1"
   ]
  },
  {
   "cell_type": "code",
   "execution_count": null,
   "metadata": {},
   "outputs": [],
   "source": [
    "def mannwhitney_median_buckets(ctrs_0, ctrs_1, n_buckets=100):\n",
    "    return mannwhitney(*bucketization_median(ctrs_0, ctrs_1, n_buckets))"
   ]
  },
  {
   "cell_type": "code",
   "execution_count": null,
   "metadata": {},
   "outputs": [],
   "source": [
    "np.sum(mannwhitney_median_buckets(clicks_A/group_A_views,clicks_B/group_B_views)<= 0.05) /2000"
   ]
  },
  {
   "cell_type": "code",
   "execution_count": null,
   "metadata": {},
   "outputs": [],
   "source": []
  }
 ],
 "metadata": {
  "kernelspec": {
   "display_name": "Python 3 (ipykernel)",
   "language": "python",
   "name": "python3"
  },
  "language_info": {
   "codemirror_mode": {
    "name": "ipython",
    "version": 3
   },
   "file_extension": ".py",
   "mimetype": "text/x-python",
   "name": "python",
   "nbconvert_exporter": "python",
   "pygments_lexer": "ipython3",
   "version": "3.11.5"
  }
 },
 "nbformat": 4,
 "nbformat_minor": 4
}
